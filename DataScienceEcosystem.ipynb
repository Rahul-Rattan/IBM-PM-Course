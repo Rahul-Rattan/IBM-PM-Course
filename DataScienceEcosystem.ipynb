{
 "cells": [
  {
   "cell_type": "markdown",
   "id": "84262d97-457a-47c4-90b0-0fb15b7e1c14",
   "metadata": {},
   "source": [
    "# Data Science Tools and Ecosystem"
   ]
  },
  {
   "cell_type": "markdown",
   "id": "5da75212-da36-49f3-8cd0-87680275d2b4",
   "metadata": {},
   "source": [
    "In this notebook, Data Science Tools and Ecosystem are summarized."
   ]
  },
  {
   "cell_type": "markdown",
   "id": "0b4861be-a84e-43dd-badd-be856664f13f",
   "metadata": {},
   "source": [
    "**Objectives:**\n",
    "- List popular languages for Data Science\n",
    "- Popular libraries for Data Science\n",
    "- Tools for Data Science"
   ]
  },
  {
   "cell_type": "markdown",
   "id": "b3571a25-44e3-471e-9c99-818f888464d2",
   "metadata": {},
   "source": [
    "# Some of the popular languages that Data Scientists use are:\n",
    "1. Python\n",
    "2. R\n",
    "3. Java"
   ]
  },
  {
   "cell_type": "markdown",
   "id": "783605b4-31cd-45cc-83f7-eea155545a8a",
   "metadata": {
    "jp-MarkdownHeadingCollapsed": true
   },
   "source": [
    "# Some of the commonly used libraries used by Data Scientists include:\n",
    "1. Matplotlib\n",
    "2. Pandas\n",
    "3. Numpy"
   ]
  },
  {
   "cell_type": "markdown",
   "id": "81089588-2c98-4a4d-914b-4760b6b5373a",
   "metadata": {},
   "source": [
    "# Data Science tools\n",
    "1. R\n",
    "2. Python\n",
    "3. Apache Hadoop"
   ]
  },
  {
   "cell_type": "markdown",
   "id": "1b3beca6-a5d2-49a6-a44d-a7d223d50451",
   "metadata": {},
   "source": [
    " ###  Below are a few examples of evaluating arithmetic expressions in Python"
   ]
  },
  {
   "cell_type": "code",
   "execution_count": 26,
   "id": "94a84437-aca8-42a6-86e3-97fa523ea9ed",
   "metadata": {},
   "outputs": [
    {
     "data": {
      "text/plain": [
       "17"
      ]
     },
     "execution_count": 26,
     "metadata": {},
     "output_type": "execute_result"
    }
   ],
   "source": [
    "# This a simple arithmetic expression to mutiply then add integers\n",
    "(3*4)+5"
   ]
  },
  {
   "cell_type": "code",
   "execution_count": 28,
   "id": "a76ed068-8349-4876-b40b-49e0d91938f9",
   "metadata": {},
   "outputs": [
    {
     "data": {
      "text/plain": [
       "3.3333333333333335"
      ]
     },
     "execution_count": 28,
     "metadata": {},
     "output_type": "execute_result"
    }
   ],
   "source": [
    "#This will convert 200 minutes to hours by diving by 60\n",
    "200/60"
   ]
  },
  {
   "cell_type": "markdown",
   "id": "ecde3a04-61c0-406d-892f-d15176ce363a",
   "metadata": {},
   "source": [
    "## Author\n",
    "Rahul"
   ]
  },
  {
   "cell_type": "code",
   "execution_count": null,
   "id": "7fafad4f-1705-4db2-b0f5-a95666d42175",
   "metadata": {},
   "outputs": [],
   "source": []
  }
 ],
 "metadata": {
  "kernelspec": {
   "display_name": "Python 3 (ipykernel)",
   "language": "python",
   "name": "python3"
  },
  "language_info": {
   "codemirror_mode": {
    "name": "ipython",
    "version": 3
   },
   "file_extension": ".py",
   "mimetype": "text/x-python",
   "name": "python",
   "nbconvert_exporter": "python",
   "pygments_lexer": "ipython3",
   "version": "3.12.4"
  }
 },
 "nbformat": 4,
 "nbformat_minor": 5
}
